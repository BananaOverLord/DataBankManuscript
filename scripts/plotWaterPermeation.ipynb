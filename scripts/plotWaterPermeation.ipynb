{
 "cells": [
  {
   "cell_type": "code",
   "execution_count": 1,
   "id": "e026048d",
   "metadata": {},
   "outputs": [
    {
     "name": "stderr",
     "output_type": "stream",
     "text": [
      "/home/osollila/.conda/envs/py39/lib/python3.9/site-packages/MDAnalysis/coordinates/chemfiles.py:108: DeprecationWarning: distutils Version classes are deprecated. Use packaging.version instead.\n",
      "  MIN_CHEMFILES_VERSION = LooseVersion(\"0.9\")\n"
     ]
    }
   ],
   "source": [
    "import sys\n",
    "import seaborn as sns\n",
    "\n",
    "sys.path.insert(1, '../../Databank/Scripts/BuildDatabank/')\n",
    "from databankLibrary import download_link, lipids_dict, databank\n",
    "\n",
    "path = '../Data/MD-PERMEATION/'\n",
    "db_data = databank(path)\n",
    "systems = db_data.get_systems()"
   ]
  },
  {
   "cell_type": "code",
   "execution_count": 367,
   "id": "2241e891",
   "metadata": {},
   "outputs": [],
   "source": [
    "import matplotlib.pyplot as plt\n",
    "import json\n",
    "import numpy as np\n",
    "import pandas as pd\n",
    "import seaborn as sn\n",
    "import os\n",
    "import scipy.stats\n",
    "from scipy import stats\n",
    "import scipy.optimize\n",
    "import math\n",
    "\n",
    "def CalcAreaPerMolecule(system):\n",
    "    path = system['path']\n",
    "    APLpath = path.replace('../Data/MD-PERMEATION/', '../../Databank/Data/Simulations/')\n",
    "    APLpath = APLpath + 'apl.json'\n",
    "    #try:\n",
    "    f = open(APLpath)\n",
    "    APLdata = json.load(f)\n",
    "    sumAPL = 0\n",
    "    sumIND = 0\n",
    "    for i,j in APLdata.items():\n",
    "        sumAPL += j\n",
    "        sumIND += 1\n",
    "    APL = sumAPL/sumIND\n",
    "    return(APL)\n",
    "    #except:\n",
    "    #    print('apl.json not found from' + APLpath)\n",
    "        \n",
    "def calcArea(system):\n",
    "    APL = CalcAreaPerMolecule(system)\n",
    "    Nlipid = 0\n",
    "    for molecule in system['COMPOSITION']:\n",
    "        if molecule in lipids_dict:\n",
    "            Nlipid += np.sum(system['COMPOSITION'][molecule]['COUNT'])\n",
    "    return Nlipid*APL/2\n",
    "\n",
    "def GetThickness(system):\n",
    "    path = system['path']\n",
    "    ThicknessPath = path.replace('../Data/MD-PERMEATION/', '../../Databank/Data/Simulations/')\n",
    "    ThicknessPath = ThicknessPath + 'thickness.json'\n",
    "    #try:\n",
    "    f = open(ThicknessPath)\n",
    "    thickness = json.load(f)\n",
    "    return(thickness)\n",
    "    #except:\n",
    "    #    pass\n",
    "    #    print('thickness.json not found from' + system['path'])\n",
    "    \n",
    "\n",
    "def calcLipidFraction(system, lipid):\n",
    "    NlipidTOT = 0\n",
    "    for molecule in system['COMPOSITION']:\n",
    "        if molecule in lipids_dict:\n",
    "            NlipidTOT += np.sum(system['COMPOSITION'][molecule]['COUNT'])\n",
    "    \n",
    "    Nlipid = 0\n",
    "    for molecule in system['COMPOSITION']:\n",
    "        if lipid in molecule:\n",
    "            Nlipid += np.sum(system['COMPOSITION'][molecule]['COUNT'])\n",
    "            \n",
    "    return Nlipid/NlipidTOT\n",
    "\n",
    "def chargedFraction(system):\n",
    "    Nlipid = 0\n",
    "    for molecule in system['COMPOSITION']:\n",
    "        if molecule in lipids_dict:\n",
    "            Nlipid += np.sum(system['COMPOSITION'][molecule]['COUNT'])\n",
    "    \n",
    "    Ncharged = 0\n",
    "    chargedlipids = ['POPG', 'POPS', 'DPPG', 'DOPS', 'POPI', 'SAPI', 'SLPI', 'DHMDMAB']\n",
    "    for molecule in system['COMPOSITION']:\n",
    "        if molecule in chargedlipids:\n",
    "            Ncharged += np.sum(system['COMPOSITION'][molecule]['COUNT'])\n",
    "            \n",
    "    return Ncharged/Nlipid\n",
    "\n",
    "\n",
    "def getHydrationLevel(system):\n",
    "    Nlipid = 0\n",
    "    for molecule in system['COMPOSITION']:\n",
    "        if molecule in lipids_dict:\n",
    "            Nlipid += np.sum(system['COMPOSITION'][molecule]['COUNT'])\n",
    "    Nwater = system['COMPOSITION']['SOL']['COUNT']\n",
    "    return Nwater/Nlipid\n",
    "\n",
    "\n",
    "def getWaterPermeationRate(system):\n",
    "    path = system['path']\n",
    "    with open(path + 'Counting_events.txt', 'r') as f:\n",
    "        last_line = f.readlines()[-1]\n",
    "    last_line = last_line.split()\n",
    "    time = float(last_line[0])\n",
    "    count = float(last_line[1])\n",
    "    area = calcArea(system)\n",
    "    #rate = count / (time * area)  #1/(ns*Å^2)\n",
    "    rate = count / (time)  #1/ns\n",
    "    thickness = GetThickness(system)*10\n",
    "    Nwater = system['COMPOSITION']['SOL']['COUNT']\n",
    "    P = 0.5*rate*10**9/(area*10**-20 * 33.3679*10**27)\n",
    "    return P*10**6  # micrometer per second\n",
    "\n",
    "def getWaterLateralDiffusion(system):\n",
    "    path = system['path']\n",
    "    waterDIFFUSIONpath = path.replace('../Data/MD-PERMEATION/', '../Data/WATERdiffusion/')\n",
    "    waterDIFFUSIONpath = waterDIFFUSIONpath + 'WATERlateralMSD.xvg'\n",
    "    D = float(os.popen('grep D ' + waterDIFFUSIONpath + \" | grep = | awk '{print $5}'\").read())\n",
    "    return D\n",
    "    \n",
    "def plotCorrelation(xProperty,yProperty,permeationResults):\n",
    "    xPropertyData = []\n",
    "    yPropertyData = []\n",
    "    for ID in permeationResults:\n",
    "        xPropertyData.append(permeationResults[ID][xProperty])\n",
    "        yPropertyData.append(permeationResults[ID][yProperty])\n",
    "    plt.plot(xPropertyData,yPropertyData,'.')\n",
    "    \n",
    "def plotXaveragedData(xProperty,yProperty,permeationResults,rounddec):\n",
    "    avetemp = {}\n",
    "    for ID in permeationResults:\n",
    "        #print(permeationVStemperature[ID])\n",
    "        temperature = round(permeationVStemperature[ID][xProperty], rounddec)\n",
    "        if temperature not in avetemp.keys():\n",
    "            avetemp[temperature] = {}\n",
    "            avetemp[temperature]['values'] = []\n",
    "            avetemp[temperature]['weigths'] = []\n",
    "        avetemp[temperature]['values'].append(permeationVStemperature[ID][yProperty])\n",
    "        avetemp[temperature]['weigths'].append(permeationVStemperature[ID]['SimLenght']) \n",
    "        #print(permeationVStemperature[ID]['permeation'], permeationVStemperature[ID]['temperature'])\n",
    "    \n",
    "    xPropertyData = []\n",
    "    yPropertyData = []\n",
    "    yPropertyDataError = []\n",
    "    for temp in avetemp:\n",
    "        #if len(avetemp[temp]['values']) < 3:\n",
    "        #    continue\n",
    "        if np.sum(avetemp[temp]['weigths']) < 1000000:\n",
    "            continue\n",
    "        average = np.average(avetemp[temp]['values'], weights = avetemp[temp]['weigths'])\n",
    "        variance = np.average((avetemp[temp]['values']-average)**2, weights = avetemp[temp]['weigths'])\n",
    "        xPropertyData.append(temp)\n",
    "        yPropertyData.append(average)\n",
    "        yPropertyDataError.append(math.sqrt(variance)/math.sqrt(len(avetemp[temp]['values'])))\n",
    "        #yPropertyDataError.append(math.sqrt(variance))\n",
    "    #print(yPropertyDataError)\n",
    "    plt.errorbar(xPropertyData,yPropertyData, yerr=yPropertyDataError, marker = \".\", linestyle='')\n",
    "    #plt.errorbar(result[0],result[1], yerr=result[2], marker = \".\", linestyle='')\n",
    "    return xPropertyData,yPropertyData,yPropertyDataError     \n",
    "    \n",
    "def averageOrderParameters(system):\n",
    "    \n",
    "    #DataBankPath = '../../Databank/Data/'\n",
    "    #path = DataBankPath + system['path']\n",
    "    \n",
    "    pathTMP = system['path']\n",
    "    path = pathTMP.replace('../Data/MD-PERMEATION/', '../../Databank/Data/Simulations/')\n",
    "    \n",
    "    sn1sum = 0\n",
    "    sn1count = 0\n",
    "    sn2sum = 0\n",
    "    sn2count = 0\n",
    "    \n",
    "    for lipid in system['COMPOSITION']:\n",
    "        if lipid in lipids_dict and not 'CHOL' in lipid:\n",
    "            OPpathSIM = path + lipid + 'OrderParameters.json'\n",
    "            with open(OPpathSIM) as json_file:\n",
    "                OPsim = json.load(json_file)\n",
    "    \n",
    "            for key in OPsim:\n",
    "                if 'M_G1C' in key:\n",
    "                    sn1sum += float(OPsim[key][0][0])\n",
    "                    sn1count += 1\n",
    "                elif 'M_G2C' in key:\n",
    "                    sn2sum += float(OPsim[key][0][0])\n",
    "                    sn2count += 1\n",
    "                    \n",
    "    return sn1sum/sn1count, sn2sum/sn2count\n",
    "\n"
   ]
  },
  {
   "cell_type": "code",
   "execution_count": 276,
   "id": "c309a364",
   "metadata": {},
   "outputs": [
    {
     "name": "stdout",
     "output_type": "stream",
     "text": [
      "Water permeation failed, setting rate to 0: ../Data/MD-PERMEATION/019/eb8/019eb8d7691998587faa1e618272a564ff9e697e/577a6cc9d00effd20baf941d520a23d91701352d/\n",
      "Water permeation failed, setting rate to 0: ../Data/MD-PERMEATION/02b/984/02b98418d9965749ac943ecae9627cfdd1dfbdcd/7339faa76da6c93cfee03e59f399e2eed1628b53/\n",
      "Water permeation failed, setting rate to 0: ../Data/MD-PERMEATION/0a2/272/0a22727a0659852772b4a1193ced99c5981fb739/973cf49703e3217f44b5c18759fd8926e8f5d1f1/\n",
      "Water permeation failed, setting rate to 0: ../Data/MD-PERMEATION/0a4/101/0a41017641414540973e921ed22528d1f3dc414b/3c0936e61fa40cce74fd1828a2697742709e91fb/\n",
      "Water permeation failed, setting rate to 0: ../Data/MD-PERMEATION/0b0/917/0b0917aff71a271c294c0a5aa50dc1232b2f7b19/82ff8d2baa8e6e66a638d92308cc33430a39fabb/\n",
      "Water permeation failed, setting rate to 0: ../Data/MD-PERMEATION/0bc/296/0bc296850dd41d32a6e9aa4ac2b5dd4e84a6605f/e64b1a6ceccc9a361529be902c17c2b4b0394484/\n",
      "Water permeation failed, setting rate to 0: ../Data/MD-PERMEATION/0c2/1a9/0c21a9be136ea0eb9df9e5c6cdc19f723a0af245/9ac73b6a98acb54a7a67a5d690794ad7f1e4a1d1/\n",
      "Water permeation failed, setting rate to 0: ../Data/MD-PERMEATION/0e9/f5e/0e9f5e64ad7244273eb2f544966ba7dd606fbbb1/2578273ee378997849b0bec8b8b3414797cdce73/\n",
      "Water permeation failed, setting rate to 0: ../Data/MD-PERMEATION/0ee/05e/0ee05e1e79df817550a61e81325640721a390b8c/9bff2a04f58c3e886cee2ee1ab30c056d1fc9393/\n",
      "Water permeation failed, setting rate to 0: ../Data/MD-PERMEATION/0f2/d02/0f2d02d844c1290ae8e9b058d19e92065e71dd06/a5d989590567888284ba4d86b1cfe674af0f8c19/\n",
      "Water permeation failed, setting rate to 0: ../Data/MD-PERMEATION/11b/f25/11bf25200b3b2fce812c817016d05acd184d9714/57f2ed2239220503b5ad88f179c49a3aa850509b/\n",
      "Water permeation failed, setting rate to 0: ../Data/MD-PERMEATION/12e/fee/12efeef315c1170e422ed54450183e1b66b85485/3e707ddef01e5b1056299393f72cb65e3436fc15/\n",
      "Water permeation failed, setting rate to 0: ../Data/MD-PERMEATION/144/bd9/144bd9cb8aa89380b6c8d85e98cb57f3bb8896ec/216c50de5fb3991efea46db24c5f104fd0255ffa/\n",
      "Water permeation failed, setting rate to 0: ../Data/MD-PERMEATION/155/103/1551032d0e5724f346b2643eaecb5550b449816b/cd9a5571dd97171a2dfe82c09b7e138006e42a30/\n",
      "Water permeation failed, setting rate to 0: ../Data/MD-PERMEATION/16a/a70/16aa70c118dbfdbb7bd8e0462575e2776e0dec9a/ba8633f6385dbf4c344b8a7580603620b0d52603/\n",
      "Water permeation failed, setting rate to 0: ../Data/MD-PERMEATION/184/43f/18443f90b28f87979d175f3da976d22153bfa22d/2e1eb3e3eca27e99b3de593698a31676c467e38d/\n",
      "Water permeation failed, setting rate to 0: ../Data/MD-PERMEATION/18c/f18/18cf180d20c946d479a1f12645e9176981cc1a05/5c831483d57c45f9a86e7894f968ca30c051f12d/\n",
      "Water permeation failed, setting rate to 0: ../Data/MD-PERMEATION/1b5/fe7/1b5fe765d31ed81fcf5c139cf6ac6102f2995148/116afeefb5c67e782c5cc7bf9770fa6654a091fc/\n",
      "Water permeation failed, setting rate to 0: ../Data/MD-PERMEATION/1c6/213/1c62137370ddb732012f431ecd647f8490b243f1/19e060bb4e007489a0da5936e99d20c97097ffd0/\n",
      "Water permeation failed, setting rate to 0: ../Data/MD-PERMEATION/814/7cf/8147cf489ede30f8e44247cb5f5b2b3a72649d88/1cb6538530c40abb28ad1480cb53f8faca939de8/\n",
      "Water permeation failed, setting rate to 0: ../Data/MD-PERMEATION/821/08d/82108df2eeae8ee1ff2a9dfb390b730edd3e9a26/0476e26b6c2c5d789d51c0c7e5cf646a1608a433/\n",
      "Water permeation failed, setting rate to 0: ../Data/MD-PERMEATION/888/c03/888c031cd88bd97a5584a120dee76bf673e438ff/369daa4fed207d6e3d3199466c3f260535334f11/\n",
      "Water permeation failed, setting rate to 0: ../Data/MD-PERMEATION/88c/02d/88c02d2e58d6c59918f230e060130570e398071e/32ba461564dfbf8212488be80ddf109e3de23c1f/\n",
      "Water permeation failed, setting rate to 0: ../Data/MD-PERMEATION/89f/028/89f02864694d0a95da32b640f639a5d9c6f75f87/a5f5bf3e63c6f5d5200b4375ddc742b4749a1ac7/\n",
      "Water permeation failed, setting rate to 0: ../Data/MD-PERMEATION/8b0/60c/8b060ca3d6f6518f9ddddfabf34ce5bed4ddd81c/f8c45a12987ef6c1ad4dfe1d4b5ea865b8afe0b0/\n",
      "Water permeation failed, setting rate to 0: ../Data/MD-PERMEATION/8cb/989/8cb989e1813b93d1144d731ffbbc04a5cfcfb6a6/2db4e1d512355edd21cedbc0d28a45659dd6faa9/\n",
      "Water permeation failed, setting rate to 0: ../Data/MD-PERMEATION/8f1/5d1/8f15d1f68952e3d1b79be9066cbeb3c562d8c83d/480df0d527104e587dfb197ed8dff90b3872d75d/\n",
      "Water permeation failed, setting rate to 0: ../Data/MD-PERMEATION/924/ea6/924ea67948ef064e85991f142a5e2388af6296b4/c2626917d469d7e2818613569ed95c834174c82c/\n",
      "Water permeation failed, setting rate to 0: ../Data/MD-PERMEATION/930/5a2/9305a27f78b0ce37ba67c8f7108eaa8541529d77/31361c6cf8da078e8c4b5a0a478f8579bd119acb/\n",
      "Water permeation failed, setting rate to 0: ../Data/MD-PERMEATION/995/877/9958771b8fb92ac07be7d4285d09f8df65cc758e/5ad07cc3a737f917dc0e69d6f00b44091322ff68/\n",
      "Water permeation failed, setting rate to 0: ../Data/MD-PERMEATION/9a1/605/9a16054f3de88c6236c869a48b7ba22a4560c031/1ee911c0a7597ddccc6a2f88e6de0103731df881/\n",
      "Water permeation failed, setting rate to 0: ../Data/MD-PERMEATION/3b3/c1b/3b3c1bf43bc4a398f6baff75b2df1fa47e318f04/5f56d6196754d149b0e1b6a9dfade805e95511d9/\n",
      "Water permeation failed, setting rate to 0: ../Data/MD-PERMEATION/3bc/fec/3bcfec940cb844905331c500649f8163e739f3e6/018b3585ccf055e9087a4b50ce06a3d9e4515fcb/\n",
      "Water permeation failed, setting rate to 0: ../Data/MD-PERMEATION/3c4/732/3c473214491fd52562860b55efb5ef4f1f97bf16/e4dcad684cadd45b6c398eabbe39329dbb6b12bb/\n",
      "Water permeation failed, setting rate to 0: ../Data/MD-PERMEATION/8d8/5c6/8d85c662a53e14e285a3bcfb75c55f3fef35be4b/343a5f2b56bf580ab0e4fb5d444c2c947c825dd3/\n",
      "Water permeation failed, setting rate to 0: ../Data/MD-PERMEATION/624/b8a/624b8ac53befe5084c69d2c7dae322bbd734852b/5ac5d5ed9780e9296c4715ea3d2d6bad800d63c2/\n",
      "Water permeation failed, setting rate to 0: ../Data/MD-PERMEATION/671/199/671199c998a93dcf594469ea33e3b25e73d08b9e/25bf45d5d477c8ae86de3b9c044ead9489d678f6/\n",
      "Water permeation failed, setting rate to 0: ../Data/MD-PERMEATION/681/e46/681e462b5562cb21fc7481562e54093e3f9bfead/d85c48d4263e1b357b0c213b720a0b842f7647de/\n",
      "Water permeation failed, setting rate to 0: ../Data/MD-PERMEATION/692/0a3/6920a30724aaee777ec0b58cbcf374950e2f8c5a/1f0e4272f1802217f3e07b5599a6011f2b7ddac7/\n",
      "Water permeation failed, setting rate to 0: ../Data/MD-PERMEATION/6aa/abe/6aaabefe1ee940b7935eae818066d12be542d388/fbdd612cccaad0dcc7568f40c4e3bbce8d68d074/\n",
      "Water permeation failed, setting rate to 0: ../Data/MD-PERMEATION/c3e/a0b/c3ea0bd34198ac22edbce9ea2d1631b495965dfa/5522ba0e97d92d0ad6ca074e7e441efb3d0a6481/\n",
      "Water permeation failed, setting rate to 0: ../Data/MD-PERMEATION/c50/7fc/c507fc167592f74bcf57753eda69f6906707afc6/34741e2eaeb4030af973881bb7e14fac7069c317/\n",
      "Water permeation failed, setting rate to 0: ../Data/MD-PERMEATION/c8d/54f/c8d54fda73085e3f9685615b4cccc6a3dffc7442/62808d96749eaff3b5572316cb0fbaa4d0863267/\n",
      "Water permeation failed, setting rate to 0: ../Data/MD-PERMEATION/ca4/038/ca403878babec6f48159c1355f202089c0fd7fc0/81adbfa5c49ae97cb93b9bbe06fa673662c1a44a/\n",
      "Water permeation failed, setting rate to 0: ../Data/MD-PERMEATION/caf/2af/caf2afb6456dca5ee01813c6383dc16e15e6df1c/1fb975ff820d1ac4fd0bbf56f851392391caa57d/\n",
      "Water permeation failed, setting rate to 0: ../Data/MD-PERMEATION/cc4/a40/cc4a403b0e807a109f793c4acf8d4893f5db01bc/6ec5d72af3c2ccb3d149982aa549b9647c8c7a8e/\n",
      "Water permeation failed, setting rate to 0: ../Data/MD-PERMEATION/cd6/0b2/cd60b28028d5ff4eeb7791277dcaca5338ca8550/e0e0ecae00dc02cd003ef7b64930700db4a9a807/\n",
      "Water permeation failed, setting rate to 0: ../Data/MD-PERMEATION/1f7/166/1f7166e33d5c171678fb15f378425a760bbb612d/da1488d8469d58f547603ed75e699e798458aa83/\n",
      "Water permeation failed, setting rate to 0: ../Data/MD-PERMEATION/1fb/853/1fb853ac78a2c8d0fd5a777b982a8bab73e3a248/6ab24924df5300def6a4ee3fc7accf48b2b40b5a/\n",
      "Water permeation failed, setting rate to 0: ../Data/MD-PERMEATION/219/709/219709a1090be0c8ecc1fc3c6362cdf996c1c997/fdf916cac7bed9521a8d6acd71f12207aa12f6fd/\n",
      "Water permeation failed, setting rate to 0: ../Data/MD-PERMEATION/229/866/2298665351fa0bcf1b3399e4df47eb8832b77eab/e74101bfc21ebb8c489d18e1e0b729e2c034fea5/\n",
      "Water permeation failed, setting rate to 0: ../Data/MD-PERMEATION/232/24d/23224d95390ff0e95967ea1a3d89efb1c6598d6b/4791cafeea88eda925420c35461af89656c4d659/\n",
      "Water permeation failed, setting rate to 0: ../Data/MD-PERMEATION/287/d83/287d83b5b1cc07c2f7dc5f54a8d74227fc6fc3e2/8cad21af3da1756eeb92edb2ab27873891de645d/\n",
      "Water permeation failed, setting rate to 0: ../Data/MD-PERMEATION/294/580/294580f76f29b1bd472b1bfd3ac96bd2c0afc3d8/f9d04d782c95d988832179eb8bf7e78380039dbc/\n"
     ]
    },
    {
     "name": "stdout",
     "output_type": "stream",
     "text": [
      "Water permeation failed, setting rate to 0: ../Data/MD-PERMEATION/e95/22c/e9522c15b02896745581a44703fd2211e0680422/acee48b47743b28e0dfd31437aca72f364c2edd7/\n",
      "Water permeation failed, setting rate to 0: ../Data/MD-PERMEATION/e98/55c/e9855c9d36a1dabc244570c99332c1df87333dbe/09332e7c0462dcb58a2d717fd760057c08726706/\n",
      "Water permeation failed, setting rate to 0: ../Data/MD-PERMEATION/ea0/d5a/ea0d5a1550d15ecabd0ffc0a27f59a7c01f61b83/570401bcf40f667dc9b035d8d5519aeb4a3fa072/\n",
      "Water permeation failed, setting rate to 0: ../Data/MD-PERMEATION/ce5/80e/ce580ea7b4e991122666ed4fc3c779e3783cbc95/e2c64d1a46b3571951cce2c90ab7302a8f300a9b/\n",
      "Water permeation failed, setting rate to 0: ../Data/MD-PERMEATION/d0c/cca/d0cccab96a52325d65e1be3e59706c5215911089/5dd86a4c1e65de95673d1f5ebdc685d6eb1fc155/\n",
      "Water permeation failed, setting rate to 0: ../Data/MD-PERMEATION/d1b/fe4/d1bfe472aaefaa4991e8b6ddb3a888cdeeb6a7ad/870f1ea073265c465676161147d9037a9a2253e3/\n",
      "Water permeation failed, setting rate to 0: ../Data/MD-PERMEATION/d2d/e84/d2de846440bb44943576a453c16fe2fecb72dd35/5543261238b28a18b72d642786f24805a835c046/\n",
      "Water permeation failed, setting rate to 0: ../Data/MD-PERMEATION/d44/b08/d44b08236b42139f46a3fbbbd840e239070fb0b8/60bc71c1212d826e4842a448c90cbd8506142e69/\n",
      "Water permeation failed, setting rate to 0: ../Data/MD-PERMEATION/d56/af7/d56af76f2bc3c77ecb6b255dd1e6e4a304621a22/98cde4f05842054793d2430b174329e176982042/\n",
      "Water permeation failed, setting rate to 0: ../Data/MD-PERMEATION/d6d/09c/d6d09c4458210fdf02a4be6b84e90f2ccb3cd878/7d2df313040867886d85e66f378f5689d6505517/\n",
      "Water permeation failed, setting rate to 0: ../Data/MD-PERMEATION/d6e/876/d6e8760c898e670bf6a7dc97bca1c447a14bea86/9623c65208f06e641776ae88baf08feda0d09f16/\n",
      "Water permeation failed, setting rate to 0: ../Data/MD-PERMEATION/d7d/e4e/d7de4eb98126d515bf4b05457472d8d980c6ab2a/9245e3215d0b86b8fc83ef6b7ecff10c113dc50e/\n",
      "Water permeation failed, setting rate to 0: ../Data/MD-PERMEATION/dc7/f14/dc7f14a4f247140f07204a8e14f5a2a5ff8f58ca/df63fa3bbb96e0f5fb742ac67341e02a3960e555/\n",
      "Water permeation failed, setting rate to 0: ../Data/MD-PERMEATION/f1c/b0f/f1cb0f7b3e7f2d34b844bd3ec237bfa4fe845e87/3dc850ad50ed06ef9677f7c6520756fdf2962880/\n",
      "Water permeation failed, setting rate to 0: ../Data/MD-PERMEATION/f40/bb6/f40bb6ab5d44402be07059e8df74b5a8200f031e/6774168dfec0a5a7377c8a46341eba603f320cf7/\n",
      "Water permeation failed, setting rate to 0: ../Data/MD-PERMEATION/f62/739/f627391cd6cddf82078a7a12c4cd22767535b6fe/d9c93bb0ae93ede37c230593a348691012519efc/\n",
      "Water permeation failed, setting rate to 0: ../Data/MD-PERMEATION/f74/535/f74535fd6e9a5a2924b439c507fcb58b649628ef/44fcc2df562e7de6459f296386497be981b3b7e5/\n",
      "Water permeation failed, setting rate to 0: ../Data/MD-PERMEATION/f78/e18/f78e188379aa6f6b1be9f2a8afc8bc2aac191ed0/443765a3de567fd6fe4e8666d29c63e8580e6306/\n",
      "Water permeation failed, setting rate to 0: ../Data/MD-PERMEATION/f83/806/f83806c3a0af6edc5b32cd7769ac7e689b4c5331/f0ccd45496dd8a2bb993c75e728bac817cf3bae8/\n",
      "Water permeation failed, setting rate to 0: ../Data/MD-PERMEATION/f97/dff/f97dfff6e14f18c3d24bda5b8fdf9d4b4a7ec763/d9fa5dfeae8940ba2ee2faa7784bec5b2d44613a/\n",
      "Water permeation failed, setting rate to 0: ../Data/MD-PERMEATION/fd8/18f/fd818f1fa1b32dcd80ac3a124e76bd2d73705abe/fd9cef87eca7bfbaac8581358f2d8f13d8d43cd1/\n",
      "Water permeation failed, setting rate to 0: ../Data/MD-PERMEATION/49d/6ce/49d6cefb7e4c1b186ac65c40414c69ef572a62b8/91b0cb04ece782a635633afefdb3950963e9c4a5/\n",
      "Water permeation failed, setting rate to 0: ../Data/MD-PERMEATION/4e4/d45/4e4d45f15fc334edfa725ef670c7ec1f86589d3e/247e995fe4c17b8643ee8c9fb6760a383f65f024/\n",
      "Water permeation failed, setting rate to 0: ../Data/MD-PERMEATION/4fb/255/4fb255b704c3d6a78c006a1b068e14c659d9667b/e58237fa93ac53f3ddc545f4ff4148d6af982448/\n",
      "Water permeation failed, setting rate to 0: ../Data/MD-PERMEATION/503/bbb/503bbb64862a9cf4f574189806dfdd25f88e6a14/41807262ab583f3f5dd05af4b7786bc6889239fc/\n",
      "Water permeation failed, setting rate to 0: ../Data/MD-PERMEATION/508/748/5087483af99bfbd427630e5974e20aea6d34b2ae/4062f0e472c77353fc638996ae7dfcb505f3433e/\n",
      "Water permeation failed, setting rate to 0: ../Data/MD-PERMEATION/52e/142/52e1425c86de88b82dc50fc6539269b4e73b3a61/cac0f8f72a05076af7c53c7a17bf05f20666c5d7/\n",
      "Water permeation failed, setting rate to 0: ../Data/MD-PERMEATION/532/695/5326957d67eb0355d0eccf6aac9d9a44fd984777/48e776c91986eeb05d8d407567423c42bbc6126e/\n",
      "Water permeation failed, setting rate to 0: ../Data/MD-PERMEATION/539/765/5397656665e3e09c0a7c7d74bc10a0d5cee6c6e5/60c6a7e3acf926f35aa7223b6defe9763bde0140/\n",
      "Water permeation failed, setting rate to 0: ../Data/MD-PERMEATION/54b/650/54b6503812c7cd81137b04d302569bcd08aca03b/b56c1f05e72a73558cf1a7ac399a8420648399be/\n",
      "Water permeation failed, setting rate to 0: ../Data/MD-PERMEATION/5b5/593/5b55930ae87dfb632f26c4c38a7a66080e7cbb7d/461d64647820187739173ba9094a030f7d5532c2/\n",
      "Water permeation failed, setting rate to 0: ../Data/MD-PERMEATION/72c/a50/72ca507d6c27e37f020ca31197879b41f45a150a/66d5aff21e8512a9bec660eda244715dfd9eebe7/\n",
      "Water permeation failed, setting rate to 0: ../Data/MD-PERMEATION/774/f33/774f336bba838c0e53707605eaf2f8d8e4de6886/58c0154cde7ecaa3ce09e3a28f23bda4c4029d7e/\n",
      "Water permeation failed, setting rate to 0: ../Data/MD-PERMEATION/7a0/6cb/7a06cb48d1ab9c4f56a66006c487057cdcc2fb59/9d1fc1c4bd29ca523e55fefa8c3f652cd4b80ff7/\n",
      "Water permeation failed, setting rate to 0: ../Data/MD-PERMEATION/7a7/591/7a7591afc8a748eb8a19807401ef6d297f36c202/de3454b64be6b9c9d2dc17d873ca1cfbca1c6766/\n",
      "Water permeation failed, setting rate to 0: ../Data/MD-PERMEATION/7ab/2b4/7ab2b45dcff6f8ff34f5f26d8d15fb94f7cf3393/1d42d856ac5622426ba19d7a73030b1a749f817a/\n",
      "Water permeation failed, setting rate to 0: ../Data/MD-PERMEATION/7cb/7a3/7cb7a3281b5e79d8e0328d82cdebbcc11f1bab2a/f89b798e078bcc3f9793b20176dbe25ae42778ad/\n",
      "Water permeation failed, setting rate to 0: ../Data/MD-PERMEATION/7e2/66a/7e266a6989c04c46a79a2f444b521c595053c4e1/7de7367161b8ffa3b3388f6b5f61825aacf8a360/\n",
      "Water permeation failed, setting rate to 0: ../Data/MD-PERMEATION/9b7/641/9b764160ba3d106354f828531981eef8b34e8306/262e4fd83c0f60c7de432db3961400e314457a12/\n",
      "Water permeation failed, setting rate to 0: ../Data/MD-PERMEATION/9fb/6b7/9fb6b706ea484f4171bb4f8b9689aa6a7251bec1/79dbc9ba2af6e1feb29e30e63455c4d2e08ade96/\n",
      "Water permeation failed, setting rate to 0: ../Data/MD-PERMEATION/a00/2c2/a002c28997069825fa42a6b751369d8062533e14/757216c36b032096aca0f434eba8799fcd5e3860/\n",
      "Water permeation failed, setting rate to 0: ../Data/MD-PERMEATION/a57/e4d/a57e4da040747acbd9359130fca371ad3ca22854/54be9ccd66f7f57a53eb9e8266ca530a320db3e2/\n",
      "Water permeation failed, setting rate to 0: ../Data/MD-PERMEATION/a69/b1f/a69b1f89e3c9dd265a7ac3009eceb75695de582b/51b9a8cb6e4f8c4f17816bfcc025978b93276e5d/\n",
      "Water permeation failed, setting rate to 0: ../Data/MD-PERMEATION/a7e/c6d/a7ec6ded506e2f92f704630d74da8d5d0bf9441c/23177d5f6629268724e6e25a19047c3d3f65dc8d/\n",
      "Water permeation failed, setting rate to 0: ../Data/MD-PERMEATION/ab4/a4c/ab4a4cd981f07a5634e982ee57e3534e413a8946/704f4f55c4c4ca03a355d1a640101442f088d0b7/\n",
      "Water permeation failed, setting rate to 0: ../Data/MD-PERMEATION/ac4/242/ac4242b5de6414ba1746a497c552dd92472a1ce3/5e793f635d83d27ec6aff19ad4eb688a872a9d76/\n",
      "Water permeation failed, setting rate to 0: ../Data/MD-PERMEATION/b04/7ff/b047ffe7ca543800f5d13bc850bbb66924b7231b/76a77f734fea9fcca1189a8c5b4533a68d73ead5/\n",
      "Water permeation failed, setting rate to 0: ../Data/MD-PERMEATION/b68/566/b68566a3b3df21c923162796ed1530e2cc43427d/57c949260b6f261039d6b2839bd2e04c68fda617/\n",
      "Water permeation failed, setting rate to 0: ../Data/MD-PERMEATION/b76/8e9/b768e968503ac098a6e14299917f7fea8f738f91/276850e8eaf5ac3300a18244fd46e70a2d4e4c91/\n",
      "Water permeation failed, setting rate to 0: ../Data/MD-PERMEATION/b9c/76a/b9c76a7f140b3ed219b91502a3f71aa811140a0d/2e13643638392fb362fda3742152f679a2cb453e/\n",
      "Water permeation failed, setting rate to 0: ../Data/MD-PERMEATION/ba4/f1e/ba4f1e6a45507797acdef4358517703b0476a4ca/a71d995219262c1bfa77b5095fcc8882404d641b/\n",
      "Water permeation failed, setting rate to 0: ../Data/MD-PERMEATION/ba8/888/ba888896d74d078c25b29ae4c106c0096146205f/7ac0f9ece8f6b64afaefad36e542a4162bac4b33/\n",
      "Water permeation failed, setting rate to 0: ../Data/MD-PERMEATION/2b1/62c/2b162c80ec2f03952098021beb74ba2cdd3d16c2/d499d1361ef77c3d931995eefdc3d2dbec565ef0/\n",
      "Water permeation failed, setting rate to 0: ../Data/MD-PERMEATION/2bc/3d5/2bc3d554525f409ceb4c66cdb3bb6d20cc76f690/6108561dfaa87c6320d75e06a14b7cd075e3597f/\n",
      "Water permeation failed, setting rate to 0: ../Data/MD-PERMEATION/310/972/310972e588b9d3b8bb3049c5a4ee1977889c6559/a4d8e0ad017d67cfb566b576d573778c671c4cba/\n"
     ]
    },
    {
     "name": "stdout",
     "output_type": "stream",
     "text": [
      "Water permeation failed, setting rate to 0: ../Data/MD-PERMEATION/351/942/3519421ff6c7df40e1da7ac6b6e9ea4d06c911ca/1419f364222a22aadc90d4ec0963e18173e1df2a/\n",
      "Water permeation failed, setting rate to 0: ../Data/MD-PERMEATION/354/c96/354c960d52ae3ede20ac62f39f791a4ba9892659/b73fc91c765a75d02c0c9fbc87e400dc79221c44/\n",
      "Water permeation failed, setting rate to 0: ../Data/MD-PERMEATION/370/8fe/3708fe5639902a0ec0b60ba2c4fdb7711184c6bb/a15498a0795561646a76b01370ec8fd493593df4/\n",
      "Water permeation failed, setting rate to 0: ../Data/MD-PERMEATION/371/d53/371d534a1bb41fd81e137717e473e6916c9bbf70/7c24007a3d9cbe605a31999850e929ebfaf530f7/\n",
      "Water permeation failed, setting rate to 0: ../Data/MD-PERMEATION/372/a91/372a917a2f528473eef642569a4c4f5f7472d473/e23ae04f10840187c2cf50c92451226d6bbadf63/\n"
     ]
    }
   ],
   "source": [
    "permeationVStemperature = {}\n",
    "ID = 0\n",
    "for system in systems:\n",
    "    path = system['path']\n",
    "    \n",
    "    try:\n",
    "        rate = getWaterPermeationRate(system)\n",
    "    except:\n",
    "        print('Water permeation failed, setting rate to 0: ' + path)\n",
    "        rate = 0\n",
    "        #continue\n",
    "    \n",
    "    if rate == 0:\n",
    "        continue\n",
    "    \n",
    "    WaterLateralDiffusion = getWaterLateralDiffusion(system)\n",
    "    \n",
    "    if WaterLateralDiffusion > 15:\n",
    "        continue\n",
    "    \n",
    "    #if rate > 0:\n",
    "    PermeationDiffusionRatio = rate/WaterLateralDiffusion\n",
    "    #else:\n",
    "    #    PermeationDiffusionRatio = 'nan'\n",
    "    \n",
    "    APL = CalcAreaPerMolecule(system)\n",
    "    \n",
    "    try:\n",
    "        thickness = GetThickness(system)\n",
    "    except:\n",
    "        thickness = 0 #float('nan')\n",
    "\n",
    "    #if thickness < 3:\n",
    "    #    continue\n",
    "        \n",
    "    area = calcArea(system)   \n",
    "    \n",
    "    tailOPavg = np.average(averageOrderParameters(system))\n",
    "    #print(tailOPavg)\n",
    "    if str(tailOPavg) == 'nan':\n",
    "        print(system)\n",
    "    \n",
    "    sn1OPavg = averageOrderParameters(system)[0]\n",
    "    sn2OPavg = averageOrderParameters(system)[1]\n",
    "    \n",
    "    hydration = getHydrationLevel(system)\n",
    "    \n",
    "    CholFraction = calcLipidFraction(system, 'CHOL')\n",
    "    \n",
    "    POPGFraction = calcLipidFraction(system, 'POPG')\n",
    "    \n",
    "    POPSFraction = calcLipidFraction(system, 'POPS')\n",
    "    \n",
    "    POPEFraction = calcLipidFraction(system, 'POPE')\n",
    "    \n",
    "    ChargedFraction = chargedFraction(system)\n",
    "    \n",
    "    temperature = system['TEMPERATURE']\n",
    "    \n",
    "    #if temperature > 315 or temperature < 300:\n",
    "    #    continue\n",
    "    \n",
    "    SimLength = system['TRJLENGTH'] - system['PREEQTIME']\n",
    "    \n",
    "    try:\n",
    "        ForceField = system['FF']\n",
    "    except:\n",
    "        ForceField = 'Unknown'\n",
    "    \n",
    "    if thickness == 0:\n",
    "        continue\n",
    "    \n",
    "    ID += 1\n",
    "    permeationVStemperature[ID] = {\n",
    "        'path': path, \n",
    "        'permeation': rate, \n",
    "        'WaterLateralDiffusion' : WaterLateralDiffusion,\n",
    "        'APL': APL, \n",
    "        'volume': APL*thickness,\n",
    "        'thickness': thickness,\n",
    "        'TailOrder' : tailOPavg,\n",
    "        #'sn1Order' : sn1OPavg,\n",
    "        #'sn2Order' : sn2OPavg,\n",
    "        'hydration': hydration,\n",
    "        'temperature': temperature ,\n",
    "        'ChargedFraction': ChargedFraction,\n",
    "        'CholFraction': CholFraction,\n",
    "        'POPGFraction': POPGFraction,\n",
    "        'POPSFraction': POPSFraction,\n",
    "        'POPEFraction': POPEFraction,\n",
    "        'ForceField': ForceField,\n",
    "        'SimLenght': SimLength,\n",
    "        #'PermeationDiffusionRatio' : PermeationDiffusionRatio,\n",
    "        'area' : area,\n",
    "    }\n",
    "        \n",
    "        \n",
    "    #!ls {path}\n",
    "    #for key in system:\n",
    "    #    print(key, ':',system[key])\n",
    "    #print('')"
   ]
  },
  {
   "cell_type": "code",
   "execution_count": 281,
   "id": "2602aa21",
   "metadata": {},
   "outputs": [
    {
     "name": "stdout",
     "output_type": "stream",
     "text": [
      "13.799872578256142\n"
     ]
    },
    {
     "name": "stderr",
     "output_type": "stream",
     "text": [
      "/home/osollila/.conda/envs/py39/lib/python3.9/site-packages/seaborn/distributions.py:2619: FutureWarning: `distplot` is a deprecated function and will be removed in a future version. Please adapt your code to use either `displot` (a figure-level function with similar flexibility) or `histplot` (an axes-level function for histograms).\n",
      "  warnings.warn(msg, FutureWarning)\n"
     ]
    },
    {
     "data": {
      "text/plain": [
       "<AxesSubplot:ylabel='Density'>"
      ]
     },
     "execution_count": 281,
     "metadata": {},
     "output_type": "execute_result"
    },
    {
     "data": {
      "image/png": "[encoded data removed]",
      "text/plain": [
       "<Figure size 432x288 with 1 Axes>"
      ]
     },
     "metadata": {
      "needs_background": "light"
     },
     "output_type": "display_data"
    }
   ],
   "source": [
    "#print(system)\n",
    "perm = []\n",
    "sumIND = 0\n",
    "sumPERM = 0\n",
    "for i in permeationVStemperature:\n",
    "    permeation = permeationVStemperature[i]['permeation']\n",
    "    #if permeation*10**-6 > 0.5*10**-4:\n",
    "    #    print(permeation, permeationVStemperature[i])\n",
    "    #    continue\n",
    "    perm.append(permeation)\n",
    "    sumPERM += permeationVStemperature[i]['permeation']\n",
    "    sumIND += 1\n",
    "    #sumPERM += permeationVStemperature[i]['SimLenght'] * permeationVStemperature[i]['permeation']\n",
    "    #sumIND += permeationVStemperature[i]['SimLenght']\n",
    "print(sumPERM/sumIND)\n",
    "\n",
    "sns.distplot(perm)"
   ]
  },
  {
   "cell_type": "code",
   "execution_count": 330,
   "id": "fdaddc54",
   "metadata": {},
   "outputs": [
    {
     "data": {
      "image/png": "[encoded data removed]",
      "text/plain": [
       "<Figure size 432x288 with 1 Axes>"
      ]
     },
     "metadata": {
      "needs_background": "light"
     },
     "output_type": "display_data"
    }
   ],
   "source": [
    "plotCorrelation('APL','permeation',permeationVStemperature)\n",
    "#plt.ylim([0,100])"
   ]
  },
  {
   "cell_type": "code",
   "execution_count": 390,
   "id": "cb39e14d",
   "metadata": {},
   "outputs": [
    {
     "data": {
      "image/png": "[encoded data removed]",
      "text/plain": [
       "<Figure size 432x288 with 1 Axes>"
      ]
     },
     "metadata": {
      "needs_background": "light"
     },
     "output_type": "display_data"
    }
   ],
   "source": [
    "result = plotXaveragedData('APL','permeation',permeationVStemperature,0)\n",
    "#plt.errorbar(result[0],result[1], yerr=result[2], marker = \".\", linestyle='')\n",
    "#plt.ylim([0,20])"
   ]
  },
  {
   "cell_type": "code",
   "execution_count": 331,
   "id": "5322b91e",
   "metadata": {},
   "outputs": [
    {
     "data": {
      "image/png": "[encoded data removed]",
      "text/plain": [
       "<Figure size 432x288 with 1 Axes>"
      ]
     },
     "metadata": {
      "needs_background": "light"
     },
     "output_type": "display_data"
    }
   ],
   "source": [
    "plotCorrelation('thickness','permeation',permeationVStemperature)\n",
    "#plt.ylim([0,0.2])\n",
    "#plt.xlim([3,6])"
   ]
  },
  {
   "cell_type": "code",
   "execution_count": 388,
   "id": "92997c77",
   "metadata": {},
   "outputs": [
    {
     "data": {
      "image/png": "[encoded data removed]",
      "text/plain": [
       "<Figure size 432x288 with 1 Axes>"
      ]
     },
     "metadata": {
      "needs_background": "light"
     },
     "output_type": "display_data"
    }
   ],
   "source": [
    "result = plotXaveragedData('thickness','permeation',permeationVStemperature,1)\n",
    "#plt.ylim([0,20])"
   ]
  },
  {
   "cell_type": "code",
   "execution_count": 262,
   "id": "408e14be",
   "metadata": {},
   "outputs": [
    {
     "data": {
      "image/png": "[encoded data removed]",
      "text/plain": [
       "<Figure size 432x288 with 1 Axes>"
      ]
     },
     "metadata": {
      "needs_background": "light"
     },
     "output_type": "display_data"
    }
   ],
   "source": [
    "plotCorrelation('TailOrder','permeation',permeationVStemperature)\n",
    "#plt.ylim([0,0.2])"
   ]
  },
  {
   "cell_type": "code",
   "execution_count": 370,
   "id": "8c83f2be",
   "metadata": {},
   "outputs": [
    {
     "data": {
      "image/png": "[encoded data removed]",
      "text/plain": [
       "<Figure size 432x288 with 1 Axes>"
      ]
     },
     "metadata": {
      "needs_background": "light"
     },
     "output_type": "display_data"
    }
   ],
   "source": [
    "result = plotXaveragedData('TailOrder','permeation',permeationVStemperature,2)"
   ]
  },
  {
   "cell_type": "code",
   "execution_count": 264,
   "id": "5ebe3f1f",
   "metadata": {},
   "outputs": [
    {
     "data": {
      "image/png": "[encoded data removed]",
      "text/plain": [
       "<Figure size 432x288 with 1 Axes>"
      ]
     },
     "metadata": {
      "needs_background": "light"
     },
     "output_type": "display_data"
    }
   ],
   "source": [
    "plotCorrelation('temperature','permeation',permeationVStemperature)\n",
    "#plt.ylim([0,0.2])"
   ]
  },
  {
   "cell_type": "code",
   "execution_count": 386,
   "id": "28c015e4",
   "metadata": {},
   "outputs": [
    {
     "data": {
      "image/png": "[encoded data removed]",
      "text/plain": [
       "<Figure size 432x288 with 1 Axes>"
      ]
     },
     "metadata": {
      "needs_background": "light"
     },
     "output_type": "display_data"
    },
    {
     "name": "stdout",
     "output_type": "stream",
     "text": [
      "-0.016582379819356455 0.003926012415433712\n",
      "LinregressResult(slope=-4.941549186168224, intercept=18.418487383287893, rvalue=-0.8474634941892887, pvalue=0.003918491927388986, stderr=1.1699516997992463, intercept_stderr=3.683839082187409)\n"
     ]
    },
    {
     "data": {
      "image/png": "[encoded data removed]",
      "text/plain": [
       "<Figure size 432x288 with 1 Axes>"
      ]
     },
     "metadata": {
      "needs_background": "light"
     },
     "output_type": "display_data"
    }
   ],
   "source": [
    "results = plotXaveragedData('temperature','permeation',permeationVStemperature,-1)\n",
    "#plt.ylim([-10,10])\n",
    "plt.show()\n",
    "\n",
    "itemp = []\n",
    "logP = []\n",
    "for i in range(len(results[0])):\n",
    "    itemp.append(1000*1/results[0][i])\n",
    "    logP.append(np.log(results[1][i]))\n",
    "    #plt.plot(1/results[0][i],np.log(results[1][i]),\".\")\n",
    "\n",
    "plt.plot(itemp,logP,\".\")\n",
    "fitResult = scipy.stats.linregress(itemp, logP)\n",
    "print(fitResult[0] / 298, fitResult[4] / 298)\n",
    "print(fitResult)\n"
   ]
  },
  {
   "cell_type": "code",
   "execution_count": 372,
   "id": "5cdad64d",
   "metadata": {},
   "outputs": [
    {
     "data": {
      "text/plain": [
       "([300.0, 310.0, 320.0, 340.0, 370.0, 350.0, 330.0, 280.0, 290.0],\n",
       " [5.264470708822079,\n",
       "  10.718872681436624,\n",
       "  31.54350275880478,\n",
       "  51.41322063227283,\n",
       "  118.41327464238691,\n",
       "  67.8308537275954,\n",
       "  65.07817893626986,\n",
       "  8.369919443795473,\n",
       "  0.6220265756950653],\n",
       " [0.37460818710785637,\n",
       "  0.5888066172285471,\n",
       "  3.5055509491641526,\n",
       "  3.1489669043739132,\n",
       "  0.005297411530693096,\n",
       "  12.537482553048543,\n",
       "  13.951324665484838,\n",
       "  0.4567854490990298,\n",
       "  0.32788379484812796])"
      ]
     },
     "execution_count": 372,
     "metadata": {},
     "output_type": "execute_result"
    }
   ],
   "source": [
    "results"
   ]
  },
  {
   "cell_type": "code",
   "execution_count": 267,
   "id": "aec30875",
   "metadata": {},
   "outputs": [
    {
     "data": {
      "image/png": "[encoded data removed]",
      "text/plain": [
       "<Figure size 432x288 with 1 Axes>"
      ]
     },
     "metadata": {
      "needs_background": "light"
     },
     "output_type": "display_data"
    }
   ],
   "source": [
    "plotCorrelation('hydration','permeation',permeationVStemperature)\n",
    "#plt.ylim([0,0.2])"
   ]
  },
  {
   "cell_type": "code",
   "execution_count": 268,
   "id": "c330bfa0",
   "metadata": {},
   "outputs": [
    {
     "data": {
      "image/png": "[encoded data removed]",
      "text/plain": [
       "<Figure size 432x288 with 1 Axes>"
      ]
     },
     "metadata": {
      "needs_background": "light"
     },
     "output_type": "display_data"
    }
   ],
   "source": [
    "plotXaveragedData('hydration','permeation',permeationVStemperature,0)"
   ]
  },
  {
   "cell_type": "code",
   "execution_count": 269,
   "id": "3ecfe00f",
   "metadata": {},
   "outputs": [
    {
     "data": {
      "image/png": "[encoded data removed]",
      "text/plain": [
       "<Figure size 432x288 with 1 Axes>"
      ]
     },
     "metadata": {
      "needs_background": "light"
     },
     "output_type": "display_data"
    }
   ],
   "source": [
    "plotCorrelation('temperature','WaterLateralDiffusion',permeationVStemperature)"
   ]
  },
  {
   "cell_type": "code",
   "execution_count": 270,
   "id": "9d41623a",
   "metadata": {},
   "outputs": [
    {
     "data": {
      "image/png": "[encoded data removed]",
      "text/plain": [
       "<Figure size 432x288 with 1 Axes>"
      ]
     },
     "metadata": {
      "needs_background": "light"
     },
     "output_type": "display_data"
    }
   ],
   "source": [
    "plotXaveragedData('temperature','WaterLateralDiffusion',permeationVStemperature,-1)"
   ]
  },
  {
   "cell_type": "code",
   "execution_count": 245,
   "id": "36133971",
   "metadata": {},
   "outputs": [
    {
     "data": {
      "image/png": "[encoded data removed]",
      "text/plain": [
       "<Figure size 432x288 with 1 Axes>"
      ]
     },
     "metadata": {
      "needs_background": "light"
     },
     "output_type": "display_data"
    }
   ],
   "source": [
    "plotCorrelation('hydration','WaterLateralDiffusion',permeationVStemperature)\n",
    "#plt.ylim([0,11])"
   ]
  },
  {
   "cell_type": "code",
   "execution_count": 246,
   "id": "857bb91d",
   "metadata": {},
   "outputs": [
    {
     "data": {
      "image/png": "[encoded data removed]",
      "text/plain": [
       "<Figure size 432x288 with 1 Axes>"
      ]
     },
     "metadata": {
      "needs_background": "light"
     },
     "output_type": "display_data"
    }
   ],
   "source": [
    "plotXaveragedData('hydration','WaterLateralDiffusion',permeationVStemperature,-1)"
   ]
  },
  {
   "cell_type": "code",
   "execution_count": 294,
   "id": "28fb9b68",
   "metadata": {},
   "outputs": [
    {
     "data": {
      "image/png": "[encoded data removed]",
      "text/plain": [
       "<Figure size 432x288 with 1 Axes>"
      ]
     },
     "metadata": {
      "needs_background": "light"
     },
     "output_type": "display_data"
    }
   ],
   "source": [
    "plotCorrelation('APL','thickness',permeationVStemperature)"
   ]
  },
  {
   "cell_type": "code",
   "execution_count": 295,
   "id": "f64439ca",
   "metadata": {},
   "outputs": [
    {
     "data": {
      "image/png": "[encoded data removed]",
      "text/plain": [
       "<Figure size 432x288 with 1 Axes>"
      ]
     },
     "metadata": {
      "needs_background": "light"
     },
     "output_type": "display_data"
    }
   ],
   "source": [
    "plotXaveragedData('APL','thickness',permeationVStemperature,0)"
   ]
  },
  {
   "cell_type": "code",
   "execution_count": 174,
   "id": "b8f532fb",
   "metadata": {},
   "outputs": [
    {
     "ename": "KeyError",
     "evalue": "'PermeationDiffusionRatio'",
     "output_type": "error",
     "traceback": [
      "\u001b[0;31m---------------------------------------------------------------------------\u001b[0m",
      "\u001b[0;31mKeyError\u001b[0m                                  Traceback (most recent call last)",
      "Input \u001b[0;32mIn [174]\u001b[0m, in \u001b[0;36m<module>\u001b[0;34m\u001b[0m\n\u001b[0;32m----> 1\u001b[0m \u001b[43mplotCorrelation\u001b[49m\u001b[43m(\u001b[49m\u001b[38;5;124;43m'\u001b[39;49m\u001b[38;5;124;43mhydration\u001b[39;49m\u001b[38;5;124;43m'\u001b[39;49m\u001b[43m,\u001b[49m\u001b[38;5;124;43m'\u001b[39;49m\u001b[38;5;124;43mPermeationDiffusionRatio\u001b[39;49m\u001b[38;5;124;43m'\u001b[39;49m\u001b[43m,\u001b[49m\u001b[43mpermeationVStemperature\u001b[49m\u001b[43m)\u001b[49m\n",
      "Input \u001b[0;32mIn [167]\u001b[0m, in \u001b[0;36mplotCorrelation\u001b[0;34m(xProperty, yProperty, permeationResults)\u001b[0m\n\u001b[1;32m    111\u001b[0m \u001b[38;5;28;01mfor\u001b[39;00m ID \u001b[38;5;129;01min\u001b[39;00m permeationResults:\n\u001b[1;32m    112\u001b[0m     xPropertyData\u001b[38;5;241m.\u001b[39mappend(permeationResults[ID][xProperty])\n\u001b[0;32m--> 113\u001b[0m     yPropertyData\u001b[38;5;241m.\u001b[39mappend(\u001b[43mpermeationResults\u001b[49m\u001b[43m[\u001b[49m\u001b[43mID\u001b[49m\u001b[43m]\u001b[49m\u001b[43m[\u001b[49m\u001b[43myProperty\u001b[49m\u001b[43m]\u001b[49m)\n\u001b[1;32m    114\u001b[0m plt\u001b[38;5;241m.\u001b[39mplot(xPropertyData,yPropertyData,\u001b[38;5;124m'\u001b[39m\u001b[38;5;124m.\u001b[39m\u001b[38;5;124m'\u001b[39m)\n",
      "\u001b[0;31mKeyError\u001b[0m: 'PermeationDiffusionRatio'"
     ]
    }
   ],
   "source": [
    "plotCorrelation('hydration','PermeationDiffusionRatio',permeationVStemperature)\n",
    "#plt.ylim([0,0.05])"
   ]
  },
  {
   "cell_type": "code",
   "execution_count": null,
   "id": "2629f891",
   "metadata": {},
   "outputs": [],
   "source": [
    "plotCorrelation('ChargedFraction','permeation',permeationVStemperature)\n",
    "plt.ylim([0,50])"
   ]
  },
  {
   "cell_type": "code",
   "execution_count": null,
   "id": "bb0addee",
   "metadata": {},
   "outputs": [],
   "source": [
    "plotCorrelation('CholFraction','permeation',permeationVStemperature)\n",
    "plt.ylim([0,50])"
   ]
  },
  {
   "cell_type": "code",
   "execution_count": null,
   "id": "6d10a4c5",
   "metadata": {},
   "outputs": [],
   "source": [
    "plotCorrelation('POPSFraction','APL',permeationVStemperature)"
   ]
  },
  {
   "cell_type": "code",
   "execution_count": null,
   "id": "838f56f6",
   "metadata": {},
   "outputs": [],
   "source": [
    "data = {}\n",
    "for prop in permeationVStemperature[1]:\n",
    "    if prop == 'path':\n",
    "        continue\n",
    "    data[prop] = []\n",
    "\n",
    "for ID in permeationVStemperature:\n",
    "    for prop in permeationVStemperature[ID]:\n",
    "        if prop == 'path':\n",
    "            continue\n",
    "        data[prop].append(permeationVStemperature[ID][prop])\n",
    "        #print(ID,prop)\n",
    "\n",
    "columns = []\n",
    "for i in data:\n",
    "    columns.append(i)\n",
    "\n",
    "df = pd.DataFrame(data,columns=columns)\n",
    "#print (df)"
   ]
  },
  {
   "cell_type": "code",
   "execution_count": null,
   "id": "7ce03270",
   "metadata": {},
   "outputs": [],
   "source": [
    "corrMatrix = df.corr()\n",
    "#print (corrMatrix)\n",
    "plt.figure(figsize = (20,10))\n",
    "sn.heatmap(corrMatrix, annot=True)\n",
    "\n",
    "plt.show()\n"
   ]
  },
  {
   "cell_type": "code",
   "execution_count": null,
   "id": "ac27ea49",
   "metadata": {},
   "outputs": [],
   "source": [
    "scipy.stats.pearsonr(data['ChargedFraction'],data['APL'])"
   ]
  },
  {
   "cell_type": "code",
   "execution_count": null,
   "id": "16305975",
   "metadata": {},
   "outputs": [],
   "source": [
    "scipy.stats.spearmanr(data['ChargedFraction'],data['APL'])"
   ]
  },
  {
   "cell_type": "code",
   "execution_count": null,
   "id": "a1eadaea",
   "metadata": {},
   "outputs": [],
   "source": [
    "df"
   ]
  },
  {
   "cell_type": "code",
   "execution_count": null,
   "id": "dddfdca5",
   "metadata": {},
   "outputs": [],
   "source": [
    "from scipy import stats\n",
    "\n",
    "def corrfunc(x, y, **kws):\n",
    "  r, p = stats.pearsonr(x, y)\n",
    "  p_stars = ''\n",
    "  if p <= 0.05:\n",
    "    p_stars = '*'\n",
    "  if p <= 0.01:\n",
    "    p_stars = '**'\n",
    "  if p <= 0.001:\n",
    "    p_stars = '***'\n",
    "  ax = plt.gca()\n",
    "  ax.annotate('r = {:.2f} '.format(r) + p_stars,\n",
    "              xy=(0.05, 0.9), xycoords=ax.transAxes)\n",
    "\n",
    "\n",
    "def annotate_colname(x, **kws):\n",
    "  ax = plt.gca()\n",
    "  ax.annotate(x.name, xy=(0.05, 0.9), xycoords=ax.transAxes,\n",
    "              fontweight='bold')\n",
    "\n",
    "g = sn.PairGrid(df, palette=['red'])\n",
    "  # Use normal regplot as `lowess=True` doesn't provide CIs.\n",
    "g.map_upper(sn.regplot, scatter_kws={'s':10})#, lowess = True)\n",
    "g.map_diag(sn.histplot, kde= True)\n",
    "g.map_diag(annotate_colname)\n",
    "g.map_lower(sn.kdeplot, cmap='Blues_d')\n",
    "g.map_lower(corrfunc)\n",
    "# Remove axis labels, as they're in the diagonals.\n",
    "for ax in g.axes.flatten():\n",
    "    ax.set_ylabel('')\n",
    "    ax.set_xlabel('')\n",
    "g\n",
    "g.figure.savefig(\"correlations.pdf\")"
   ]
  },
  {
   "cell_type": "code",
   "execution_count": null,
   "id": "734901d0",
   "metadata": {},
   "outputs": [],
   "source": [
    "from scipy import stats\n",
    "\n",
    "def corrfunc(x, y, **kws):\n",
    "  #r, p = stats.pearsonr(x, y)\n",
    "  r, p = stats.spearmanr(x, y)\n",
    "  p_stars = ''\n",
    "  if p <= 0.05:\n",
    "    p_stars = '*'\n",
    "  if p <= 0.01:\n",
    "    p_stars = '**'\n",
    "  if p <= 0.001:\n",
    "    p_stars = '***'\n",
    "  ax = plt.gca()\n",
    "  ax.annotate('r = {:.2f} '.format(r) + p_stars,\n",
    "              xy=(0.05, 0.9), xycoords=ax.transAxes)\n",
    "\n",
    "\n",
    "def annotate_colname(x, **kws):\n",
    "  ax = plt.gca()\n",
    "  ax.annotate(x.name, xy=(0.05, 0.9), xycoords=ax.transAxes,\n",
    "              fontweight='bold')\n",
    "\n",
    "g = sn.PairGrid(df, palette=['red'])\n",
    "  # Use normal regplot as `lowess=True` doesn't provide CIs.\n",
    "g.map_upper(sn.regplot, scatter_kws={'s':10}, order = 1, robust = True ) #lowess = True)\n",
    "g.map_diag(sn.histplot, kde= True)\n",
    "g.map_diag(annotate_colname)\n",
    "g.map_lower(sn.kdeplot, cmap='Blues_d')\n",
    "g.map_lower(corrfunc)\n",
    "# Remove axis labels, as they're in the diagonals.\n",
    "for ax in g.axes.flatten():\n",
    "    ax.set_ylabel('')\n",
    "    ax.set_xlabel('')\n",
    "g\n",
    "g.figure.savefig(\"correlations.pdf\")"
   ]
  },
  {
   "cell_type": "code",
   "execution_count": null,
   "id": "a823bdb8",
   "metadata": {},
   "outputs": [],
   "source": [
    "def CalcCorrCoeff(prop1,prop2):\n",
    "    #prop1 = 'hydration'\n",
    "    #prop2 = 'WaterLateralDiffusion'\n",
    "\n",
    "    list1 = []\n",
    "    list2 = []\n",
    "    for ID in permeationVStemperature:\n",
    "        #print(permeationVStemperature[ID])\n",
    "        value1 = permeationVStemperature[ID][prop1]\n",
    "        value2 = permeationVStemperature[ID][prop2]\n",
    "        #if permeationVStemperature[ID][prop1] < 30:\n",
    "        list1.append(value1)\n",
    "        list2.append(value2)\n",
    "\n",
    "    #print(stats.spearmanr(list1, list2))\n",
    "    r, p = stats.pearsonr(list1, list2)\n",
    "\n",
    "    p_stars = ''\n",
    "    if p <= 0.05:\n",
    "        p_stars = '*'\n",
    "    if p <= 0.01:\n",
    "        p_stars = '**'\n",
    "    if p <= 0.001:\n",
    "        p_stars = '***'\n",
    "    \n",
    "    ax = plt.gca()\n",
    "    ax.annotate('r = {:.2f} '.format(r) + p_stars,\n",
    "              xy=(0.05, 0.9), xycoords=ax.transAxes)\n",
    "\n",
    "    sn.regplot(x=list1,y=list2, scatter_kws={'s':10})\n",
    "    #return r, p_stars\n",
    "\n",
    "plt.figure(figsize=(20,5))\n",
    "\n",
    "properties = ['APL', \n",
    "             'thickness',\n",
    "             # 'volume',\n",
    "             'TailOrder',\n",
    "             #'sn1Order',\n",
    "             #'sn2Order',\n",
    "             'hydration',\n",
    "              'temperature',\n",
    "              'ChargedFraction',\n",
    "              'CholFraction',\n",
    "              'POPGFraction',\n",
    "              'POPSFraction',\n",
    "              'POPEFraction'\n",
    "             ]\n",
    "\n",
    "for i in range(1,11):\n",
    "    #print(i)\n",
    "    \n",
    "    plt.subplot(2, 10, i)\n",
    "    plt.title(properties[i-1])\n",
    "    if i == 1:\n",
    "        plt.ylabel('Permeation')\n",
    "    else:\n",
    "        plt.yticks(color = 'w')\n",
    "    CalcCorrCoeff(properties[i-1],'permeation')\n",
    "    \n",
    "    plt.subplot(2, 10, i+10)\n",
    "    if i+10 == 11:\n",
    "        plt.ylabel('Water lateral diffusion')\n",
    "    else:\n",
    "        plt.yticks(color = 'w')\n",
    "    CalcCorrCoeff(properties[i-1],'WaterLateralDiffusion')"
   ]
  },
  {
   "cell_type": "code",
   "execution_count": null,
   "id": "ad2df2da",
   "metadata": {},
   "outputs": [],
   "source": [
    "plt.figure(figsize=(20,5))\n",
    "\n",
    "properties = ['APL', \n",
    "             'thickness',\n",
    "             'TailOrder',\n",
    "             #'hydration',\n",
    "              'temperature',\n",
    "              #'ChargedFraction',\n",
    "              #'CholFraction',\n",
    "              #'POPGFraction',\n",
    "              #'POPSFraction',\n",
    "              #'POPEFraction'\n",
    "             ]\n",
    "\n",
    "for i in range(1,5):\n",
    "    #print(i)\n",
    "    \n",
    "    plt.subplot(2, 7, i)\n",
    "    plt.title(properties[i-1])\n",
    "    if i == 1:\n",
    "        plt.ylabel('Permeation')\n",
    "    else:\n",
    "        plt.yticks(color = 'w')\n",
    "    CalcCorrCoeff(properties[i-1],'permeation')\n",
    "    \n",
    "    plt.subplot(2, 7, i+7)\n",
    "    if i+7 == 8:\n",
    "        plt.ylabel('Water lateral diffusion')\n",
    "    else:\n",
    "        plt.yticks(color = 'w')\n",
    "    CalcCorrCoeff(properties[i-1],'WaterLateralDiffusion')\n",
    "    \n",
    "plt.savefig('PermDiffDep.pdf')"
   ]
  },
  {
   "cell_type": "code",
   "execution_count": null,
   "id": "c8407f36",
   "metadata": {},
   "outputs": [],
   "source": [
    "def CalcCorrCoeffFilterHYD(prop1,prop2):\n",
    "    #prop1 = 'hydration'\n",
    "    #prop2 = 'WaterLateralDiffusion'\n",
    "\n",
    "    list1 = []\n",
    "    list2 = []\n",
    "    for ID in permeationVStemperature:\n",
    "        #print(permeationVStemperature[ID])\n",
    "        value1 = permeationVStemperature[ID][prop1]\n",
    "        value2 = permeationVStemperature[ID][prop2]\n",
    "        if permeationVStemperature[ID]['hydration'] < 30:\n",
    "            list1.append(value1)\n",
    "            list2.append(value2)\n",
    "\n",
    "    #print(stats.spearmanr(list1, list2))\n",
    "    r, p = stats.pearsonr(list1, list2)\n",
    "\n",
    "    p_stars = ''\n",
    "    if p <= 0.05:\n",
    "        p_stars = '*'\n",
    "    if p <= 0.01:\n",
    "        p_stars = '**'\n",
    "    if p <= 0.001:\n",
    "        p_stars = '***'\n",
    "    \n",
    "    ax = plt.gca()\n",
    "    ax.annotate('r = {:.2f} '.format(r) + p_stars,\n",
    "              xy=(0.05, 0.9), xycoords=ax.transAxes)\n",
    "\n",
    "    sn.regplot(x=list1,y=list2, scatter_kws={'s':10})\n",
    "    #return r, p_stars\n",
    "\n",
    "\n",
    "\n",
    "plt.figure(figsize=(5,30))\n",
    "\n",
    "properties = ['APL', \n",
    "             'thickness',\n",
    "             'TailOrder',\n",
    "              'WaterLateralDiffusion',\n",
    "              'permeation'\n",
    "             #'hydration',\n",
    "             # 'temperature',\n",
    "              #'ChargedFraction',\n",
    "              #'CholFraction',\n",
    "             #'POPGFraction',\n",
    "             #'POPSFraction',\n",
    "             #'POPEFraction'\n",
    "             ]\n",
    "\n",
    "for i in range(1,6):\n",
    "    #print(i)\n",
    "    \n",
    "    plt.subplot(8, 1, i)\n",
    "    if i ==1:\n",
    "        plt.title('hydration')\n",
    "    plt.ylabel(properties[i-1])\n",
    "    #else:\n",
    "    #    plt.yticks(color = 'w')\n",
    "    CalcCorrCoeffFilterHYD('hydration',properties[i-1])\n",
    "    \n",
    "    #plt.subplot(2, 7, i+7)\n",
    "    #if i+7 == 8:\n",
    "    #    plt.ylabel('Water lateral diffusion')\n",
    "    #else:\n",
    "    #    plt.yticks(color = 'w')\n",
    "    #CalcCorrCoeff(properties[i-1],'WaterLateralDiffusion')"
   ]
  },
  {
   "cell_type": "code",
   "execution_count": null,
   "id": "e715a777",
   "metadata": {},
   "outputs": [],
   "source": [
    "prop1 = 'APL'\n",
    "prop2 = 'permeation'\n",
    "\n",
    "list1 = []\n",
    "list2 = []\n",
    "for ID in permeationVStemperature:\n",
    "    #print(permeationVStemperature[ID])\n",
    "    value1 = permeationVStemperature[ID][prop1]\n",
    "    value2 = permeationVStemperature[ID][prop2]\n",
    "    if permeationVStemperature[ID]['permeation'] < 0.1:\n",
    "        list1.append(value1)\n",
    "        list2.append(value2)\n",
    "\n",
    "#print(stats.spearmanr(list1, list2))\n",
    "r, p = stats.pearsonr(list1, list2)\n",
    "\n",
    "p_stars = ''\n",
    "if p <= 0.05:\n",
    "    p_stars = '*'\n",
    "if p <= 0.01:\n",
    "    p_stars = '**'\n",
    "if p <= 0.001:\n",
    "    p_stars = '***'\n",
    "    \n",
    "ax = plt.gca()\n",
    "ax.annotate('r = {:.2f} '.format(r) + p_stars,\n",
    "              xy=(0.05, 0.9), xycoords=ax.transAxes)\n",
    "\n",
    "sn.regplot(x=list1,y=list2, scatter_kws={'s':10})#, order = 2)"
   ]
  },
  {
   "cell_type": "code",
   "execution_count": null,
   "id": "773e163c",
   "metadata": {},
   "outputs": [],
   "source": [
    "prop1 = 'thickness'\n",
    "prop2 = 'permeation'\n",
    "\n",
    "list1 = []\n",
    "list2 = []\n",
    "for ID in permeationVStemperature:\n",
    "    #print(permeationVStemperature[ID])\n",
    "    value1 = permeationVStemperature[ID][prop1]\n",
    "    value2 = permeationVStemperature[ID][prop2]\n",
    "    if permeationVStemperature[ID]['thickness'] > 3 and permeationVStemperature[ID]['permeation'] < 0.1:\n",
    "        list1.append(value1)\n",
    "        list2.append(value2)\n",
    "\n",
    "#print(stats.spearmanr(list1, list2))\n",
    "r, p = stats.pearsonr(list1, list2)\n",
    "\n",
    "p_stars = ''\n",
    "if p <= 0.05:\n",
    "    p_stars = '*'\n",
    "if p <= 0.01:\n",
    "    p_stars = '**'\n",
    "if p <= 0.001:\n",
    "    p_stars = '***'\n",
    "    \n",
    "ax = plt.gca()\n",
    "ax.annotate('r = {:.2f} '.format(r) + p_stars,\n",
    "              xy=(0.05, 0.9), xycoords=ax.transAxes)\n",
    "\n",
    "sn.regplot(x=list1,y=list2, scatter_kws={'s':10})#, order = 2)"
   ]
  },
  {
   "cell_type": "code",
   "execution_count": null,
   "id": "6f891adc",
   "metadata": {
    "scrolled": true
   },
   "outputs": [],
   "source": [
    "for i in range(1, 7):\n",
    "    plt.subplot(2, 3, i)\n",
    "    plt.text(0.5, 0.5, str((2, 3, i)),\n",
    "             fontsize=18, ha='center')"
   ]
  },
  {
   "cell_type": "code",
   "execution_count": null,
   "id": "d6936ed1",
   "metadata": {},
   "outputs": [],
   "source": [
    "CHARMMsum = 0\n",
    "CHARMMcount = 0\n",
    "OTHERsum = 0\n",
    "OTHERcount = 0\n",
    "\n",
    "\n",
    "for i in permeationVStemperature:\n",
    "    if permeationVStemperature[i]['temperature'] > 311:\n",
    "        continue\n",
    "    FF = permeationVStemperature[i]['ForceField']\n",
    "    permeation = permeationVStemperature[i]['permeation']\n",
    "    if 'CHARMM' in FF:\n",
    "        CHARMMsum += permeation\n",
    "        CHARMMcount += 1\n",
    "    else:\n",
    "        OTHERsum += permeation\n",
    "        OTHERcount += 1\n",
    "        \n",
    "print(CHARMMsum/CHARMMcount, OTHERsum/OTHERcount)"
   ]
  },
  {
   "cell_type": "code",
   "execution_count": null,
   "id": "ce7a65c7",
   "metadata": {},
   "outputs": [],
   "source": [
    "PermSum = 0\n",
    "count = 0\n",
    "\n",
    "for system in systems:\n",
    "    try:\n",
    "        rate = getWaterPermeationRate(system)\n",
    "    except:\n",
    "        continue\n",
    "    \n",
    "    POPCFraction = calcLipidFraction(system, 'POPC')\n",
    "    if POPCFraction !=1:\n",
    "        continue\n",
    "        \n",
    "    try:\n",
    "        print(system['FF'],rate)\n",
    "    except:\n",
    "        continue\n",
    "    \n",
    "    if 'erger' in system['FF']:\n",
    "        PermSum += rate\n",
    "        count += 1\n",
    "    else:\n",
    "        continue\n",
    "\n",
    "print(PermSum/count)"
   ]
  },
  {
   "cell_type": "code",
   "execution_count": null,
   "id": "22d1d6b6",
   "metadata": {},
   "outputs": [],
   "source": [
    "def NagleFunct(x, a, g):\n",
    "    iP = a*x[0]/(x[0]-48) + g*x[1]\n",
    "    return iP\n",
    "\n",
    "APLthick = []\n",
    "permeation = []\n",
    "for ID in permeationVStemperature:\n",
    "    permeation.append(permeationVStemperature[ID]['permeation'])\n",
    "    APLthick.append([permeationVStemperature[ID]['APL'], permeationVStemperature[ID]['thickness']])\n",
    "    \n",
    "scipy.optimize.curve_fit(NagleFunct, APLthick, permeation)"
   ]
  },
  {
   "cell_type": "code",
   "execution_count": null,
   "id": "e1bd7476",
   "metadata": {},
   "outputs": [],
   "source": [
    "len(APLthick)\n",
    "\n",
    "#for i in APLthick:\n",
    "#    print(NagleFunct(i,1,1))"
   ]
  },
  {
   "cell_type": "code",
   "execution_count": null,
   "id": "f527a46e",
   "metadata": {},
   "outputs": [],
   "source": [
    "import numpy as np\n",
    "from scipy.optimize import curve_fit\n",
    "\n",
    "def func(x, a, b, c):\n",
    "    return a*np.sin(x[0])+b*np.cos(x[1])+c\n",
    "\n",
    "limits = [0, 2*np.pi, 0, 2*np.pi]  # [x1_min, x1_max, x2_min, x2_max]\n",
    "side_x = np.linspace(limits[0], limits[1], 100)\n",
    "side_y = np.linspace(limits[2], limits[3], 100)\n",
    "X1, X2 = np.meshgrid(side_x, side_y)\n",
    "size = X1.shape\n",
    "x1_1d = X1.reshape((1, np.prod(size)))\n",
    "x2_1d = X2.reshape((1, np.prod(size)))\n",
    "\n",
    "xdata = np.vstack((x1_1d, x2_1d))\n",
    "original = (3, 1, 0.5)\n",
    "z = func(xdata, *original)\n",
    "Z = z.reshape(size)\n",
    "z_noise = z + .2*np.random.randn(len(z))\n",
    "Z_noise = z_noise.reshape(size)\n",
    "\n",
    "ydata = z_noise\n",
    "popt, pcov = curve_fit(func, xdata, ydata)\n",
    "print(\"original: {}\\nfitted: {}\".format(original, popt))\n",
    "z_fit = func(xdata, *popt)\n",
    "Z_fit = z_fit.reshape(size)\n",
    "\n",
    "import matplotlib.pyplot as plt\n",
    "plt.subplot(1, 3, 1)\n",
    "plt.title(\"Real Function\")\n",
    "plt.pcolormesh(X1, X2, Z)\n",
    "plt.axis(limits)\n",
    "plt.colorbar()\n",
    "plt.subplot(1, 3, 2)\n",
    "plt.title(\"Function w/ Noise\")\n",
    "plt.pcolormesh(X1, X2, Z_noise)\n",
    "plt.axis(limits)\n",
    "plt.colorbar()\n",
    "plt.subplot(1, 3, 3)\n",
    "plt.title(\"Fitted Function from Noisy One\")\n",
    "plt.pcolormesh(X1, X2, Z_fit)\n",
    "plt.axis(limits)\n",
    "plt.colorbar()\n",
    "\n",
    "plt.show()"
   ]
  },
  {
   "cell_type": "code",
   "execution_count": null,
   "id": "a1e4b60a",
   "metadata": {},
   "outputs": [],
   "source": [
    "xdata"
   ]
  },
  {
   "cell_type": "code",
   "execution_count": null,
   "id": "d9b1d60d",
   "metadata": {},
   "outputs": [],
   "source": [
    "ydata"
   ]
  },
  {
   "cell_type": "code",
   "execution_count": null,
   "id": "7b2b2fcb",
   "metadata": {},
   "outputs": [],
   "source": [
    "tst = np.empty([0],[0])"
   ]
  },
  {
   "cell_type": "code",
   "execution_count": null,
   "id": "08b46c31",
   "metadata": {},
   "outputs": [],
   "source": [
    "tst"
   ]
  },
  {
   "cell_type": "code",
   "execution_count": null,
   "id": "eac6322c",
   "metadata": {},
   "outputs": [],
   "source": [
    "np.append([1],[1])"
   ]
  },
  {
   "cell_type": "code",
   "execution_count": null,
   "id": "baa61fda",
   "metadata": {},
   "outputs": [],
   "source": [
    "def NagleFunct(x, a, g):\n",
    "    #iP = a*x[0]/(x[0]-48) + g*x[1]\n",
    "    #return 1/iP\n",
    "    P = a*x[0] + g*x[1]\n",
    "    return P\n",
    "    \n",
    "\n",
    "APL = []\n",
    "thick = []\n",
    "permeation = []\n",
    "for ID in permeationVStemperature:\n",
    "    permeation.append(permeationVStemperature[ID]['permeation'])\n",
    "    APL.append(permeationVStemperature[ID]['APL'])\n",
    "    thick.append(permeationVStemperature[ID]['thickness']*10)\n",
    "\n",
    "x = np.asarray(APL)\n",
    "y = np.asarray(thick)\n",
    "X1, X2  = np.meshgrid(x,y)\n",
    "#size = X1.shape\n",
    "#x1_1d = X1.reshape((1, np.prod(size)))\n",
    "#x2_1d = X2.reshape((1, np.prod(size)))\n",
    "#xdata = np.vstack((X1, X2))\n",
    "xdata = np.vstack((x, y))\n",
    "\n",
    "\n",
    "ydata = np.asarray(permeation)\n",
    "#ydata = ydata.reshape(size)\n",
    "\n",
    "scipy.optimize.curve_fit(NagleFunct, xdata, ydata)"
   ]
  },
  {
   "cell_type": "code",
   "execution_count": null,
   "id": "17dad035",
   "metadata": {},
   "outputs": [],
   "source": [
    "xdata"
   ]
  },
  {
   "cell_type": "code",
   "execution_count": null,
   "id": "f2740bbf",
   "metadata": {},
   "outputs": [],
   "source": [
    "theo = []\n",
    "sim = []\n",
    "for i in range(len(APL)):\n",
    "    theo.append(NagleFunct([APL[i],thick[i]], 0.38478557, -0.30789772))\n",
    "    sim.append(permeation[i])\n",
    "    #print(theo[i],sim[i])\n",
    "plt.plot(theo,sim,\".\")\n",
    "plt.ylim(0,20)\n",
    "plt.xlim(0,20)"
   ]
  },
  {
   "cell_type": "code",
   "execution_count": null,
   "id": "e79f282c",
   "metadata": {},
   "outputs": [],
   "source": [
    "fig = plt.figure()\n",
    "ax = fig.add_subplot(projection='3d')\n",
    "\n",
    "for i in range(len(APL)):\n",
    "    ax.scatter(thick[i],APL[i],permeation[i])\n",
    "#for angle in range(0, 360):\n",
    "\n",
    "y = np.linspace(30, 60, 30)\n",
    "x = np.linspace(50, 70, 30)\n",
    "\n",
    "X, Y = np.meshgrid(x, y)\n",
    "#Z = f(X, Y)\n",
    "Z = NagleFunct((X,Y), 0.38478557, -0.30789772)\n",
    "\n",
    "ax.contour3D(Y, X, Z, 50, cmap='binary')\n",
    "ax.view_init(20, 20)\n",
    "ax.set_zlim(0,20)\n",
    "#plt.draw()\n",
    "#plt.pause(.001)"
   ]
  },
  {
   "cell_type": "code",
   "execution_count": null,
   "id": "470ead9d",
   "metadata": {},
   "outputs": [],
   "source": [
    "Y"
   ]
  },
  {
   "cell_type": "code",
   "execution_count": null,
   "id": "7b7d9111",
   "metadata": {},
   "outputs": [],
   "source": [
    "xmin, xmax, nx = -5, 4, 75\n",
    "ymin, ymax, ny = -3, 7, 150\n",
    "x, y = np.linspace(xmin, xmax, nx), np.linspace(ymin, ymax, ny)\n",
    "X, Y = np.meshgrid(x, y)"
   ]
  },
  {
   "cell_type": "code",
   "execution_count": null,
   "id": "7dcc1f41",
   "metadata": {},
   "outputs": [],
   "source": [
    "np.meshgrid(x, y)\n"
   ]
  },
  {
   "cell_type": "code",
   "execution_count": null,
   "id": "e78ba249",
   "metadata": {},
   "outputs": [],
   "source": [
    "#xprop = 'temperature'\n",
    "yprop = 'permeation'\n",
    "#yprop = 'WaterLateralDiffusion'\n",
    "xprop = 'thickness'\n",
    "\n",
    "avetemp = {}\n",
    "for ID in permeationVStemperature:\n",
    "    #print(permeationVStemperature[ID])\n",
    "    temperature = round(permeationVStemperature[ID][xprop], 1)\n",
    "    if temperature not in avetemp.keys():\n",
    "        avetemp[temperature] = {}\n",
    "        avetemp[temperature]['values'] = []\n",
    "        avetemp[temperature]['weigths'] = []\n",
    "    avetemp[temperature]['values'].append(permeationVStemperature[ID][yprop])\n",
    "    avetemp[temperature]['weigths'].append(permeationVStemperature[ID]['SimLenght']) \n",
    "    #print(permeationVStemperature[ID]['permeation'], permeationVStemperature[ID]['temperature'])\n",
    "    \n",
    "for temp in avetemp:\n",
    "    average = np.average(avetemp[temp]['values'], weights = avetemp[temp]['weigths'])\n",
    "    #plt.plot(1/temp, np.log(average),\".\")\n",
    "    plt.plot(temp, average,\".\")"
   ]
  },
  {
   "cell_type": "code",
   "execution_count": null,
   "id": "60ebec9a",
   "metadata": {},
   "outputs": [],
   "source": [
    "avetemp"
   ]
  },
  {
   "cell_type": "code",
   "execution_count": null,
   "id": "0a41c516",
   "metadata": {},
   "outputs": [],
   "source": []
  }
 ],
 "metadata": {
  "kernelspec": {
   "display_name": "Python 3 (ipykernel)",
   "language": "python",
   "name": "python3"
  },
  "language_info": {
   "codemirror_mode": {
    "name": "ipython",
    "version": 3
   },
   "file_extension": ".py",
   "mimetype": "text/x-python",
   "name": "python",
   "nbconvert_exporter": "python",
   "pygments_lexer": "ipython3",
   "version": "3.9.9"
  }
 },
 "nbformat": 4,
 "nbformat_minor": 5
}
